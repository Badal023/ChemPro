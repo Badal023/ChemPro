import tkinter as tk
from tkinter import messagebox
from PIL import Image, ImageTk
import os
import ipywidgets as widgets
from IPython.display import display, Image as IPImage

# Function to open and display an image based on user input
def open_image_from_input(change=None):
    # Get the image name (or file path) entered by the user
    image_name = entry.value.strip()

    if not image_name:
        # Show an error message if no input is entered
        error_label.value = "Please enter the name of the reaction."
        return  # Do nothing if the input is empty
    # Set the image file path
    image_path = f"Images/{image_name}.png"
    
    # Check if the image file exists
    if not os.path.exists(image_path):
        # Show an error message if the image file is not found
        error_label.value = f"The reaction '{image_name}' was not found. Please check spelling."
        return

    try:
        # Try to open the image using PIL
        image = Image.open(image_path)
        
        # Display the image in the notebook
        display(image)
        error_label.value = ""  # Clear any previous error messages
    except Exception as e:
        # Show an error message if there is a problem loading the image
        error_label.value = f"Error loading image: {e}"

# Create widgets for input and display
entry_label = widgets.Label(value="Enter the name of the reaction (or enter 'list' to get a list of reactions)")
entry = widgets.Text(value='', placeholder='Type here...', description='Reaction Name:')
error_label = widgets.Label(value="")
open_button = widgets.Button(description="Find Reaction")

# Attach the function to the button's on_click event
open_button.on_click(open_image_from_input)

# Display widgets
display(entry_label, entry, open_button, error_label)
